{
 "cells": [
  {
   "cell_type": "code",
   "execution_count": 36,
   "id": "fbea1e1e",
   "metadata": {},
   "outputs": [],
   "source": [
    "from math import cos, sin, acos, atan, sqrt, pi \n",
    "import numpy as np"
   ]
  },
  {
   "cell_type": "code",
   "execution_count": 37,
   "id": "f02fb455",
   "metadata": {},
   "outputs": [],
   "source": [
    "len_unit = 0.4 * sqrt(2)\n",
    "centre_mass = len_unit / 2\n",
    "mass = len_unit * 1.9\n",
    "\n",
    "coord_points = [(0.3, 0.3), (0.3, 0.4), (0.3, 0.5), (0.3, 0.6), \n",
    "                (0.3, 0.7), (0.3, 0.8), (0.4, 0.8), (0.5, 0.8), \n",
    "                (0.6, 0.8), (0.7, 0.8), (0.8, 0.8), (0.8, 0.7), \n",
    "                (0.8, 0.6), (0.8, 0.5), (0.8, 0.4), (0.8, 0.3)]\n",
    "alpha, beta = [], []"
   ]
  },
  {
   "cell_type": "code",
   "execution_count": 38,
   "id": "1d0efc68",
   "metadata": {},
   "outputs": [],
   "source": [
    "for (x, y) in coord_points:  \n",
    "    alpha.append(pi / 2 - atan(x / y) + acos((x ** 2 + y ** 2) / (2 * len_unit * sqrt(x ** 2 + y ** 2))))   \n",
    "    beta.append(pi - acos((2 * len_unit ** 2 - x ** 2 - y ** 2) / (2 * len_unit ** 2)))"
   ]
  },
  {
   "cell_type": "code",
   "execution_count": 39,
   "id": "21f9aef0",
   "metadata": {},
   "outputs": [],
   "source": [
    "e, w, Jc2 = [], [], []\n",
    "\n",
    "Jc1 = 1 / 3 * mass * len_unit ** 2\n",
    "\n",
    "for i in range(1, len(alpha)):\n",
    "    Jc2.append(mass * abs(len_unit ** 2 + centre_mass ** 2 - 2 * len_unit * centre_mass * cos(pi - beta[i])))\n",
    "    w.insert(i - 1, [abs(alpha[i] - alpha[i - 1]), abs(beta[i] - beta[i - 1])])\n",
    "\n",
    "for i in range(1, len(w)):\n",
    "    e.insert(i - 1, [abs(w[i][0] - w[i - 1][0]), abs(w[i][1] - w[i - 1][1])])"
   ]
  },
  {
   "cell_type": "code",
   "execution_count": 40,
   "id": "7925c5a8",
   "metadata": {},
   "outputs": [],
   "source": [
    "d1, d2, d3 = [], [], []\n",
    "\n",
    "for i in range(len(Jc2)):\n",
    "    d1.append(0.5 * (Jc1 + mass * len_unit ** 2 + 2 * mass * len_unit * centre_mass * cos(beta[i + 1]) + mass * centre_mass ** 2 + Jc2[i]))\n",
    "    d2.append(0.5 * (mass * len_unit * centre_mass * cos(beta[i + 1]) + mass * centre_mass ** 2 + Jc2[i]))\n",
    "    d3.append(0.5 * mass * centre_mass ** 2 + 0.5 * Jc2[i])"
   ]
  },
  {
   "cell_type": "code",
   "execution_count": 41,
   "id": "3ad33f3d",
   "metadata": {},
   "outputs": [],
   "source": [
    "M = []\n",
    "for i, (d1i, d2i, d3i, (w1, w2), ei, wi) in enumerate(zip(d1, d2, d3, w, e, w)):\n",
    "    A = [[2 * d1i, 2 * d2i],\n",
    "         [2 * d2i, 2 * d3i]]\n",
    "\n",
    "    B = [[-2 * mass * len_unit * centre_mass * sin(beta[i + 1]) * w2, -mass * len_unit * centre_mass * sin(beta[i + 1]) * w2],\n",
    "         [mass * len_unit * centre_mass * sin(beta[i + 1]) * w1, 0]]\n",
    "    \n",
    "    M.append(np.array(A)@np.array(ei) + np.array(B).reshape(2,-1)@np.array(wi))"
   ]
  },
  {
   "cell_type": "code",
   "execution_count": 42,
   "id": "855110b2",
   "metadata": {},
   "outputs": [
    {
     "name": "stdout",
     "output_type": "stream",
     "text": [
      "       M1     M2\n",
      " 1.  0.026  0.017\n",
      " 2.  0.002  0.008\n",
      " 3.  0.023  0.019\n",
      " 4.  0.026  0.026\n",
      " 5.  0.153  0.123\n",
      " 6.  0.026  0.032\n",
      " 7.  0.040  0.045\n",
      " 8.  0.088  0.084\n",
      " 9.  0.670  0.521\n",
      "10.  0.221  0.137\n",
      "11.  0.620  0.541\n",
      "12.  0.114  0.096\n",
      "13.  0.036  0.036\n",
      "14.  0.052  0.041\n"
     ]
    }
   ],
   "source": [
    "print(\"       M1     M2\")\n",
    "for i, (m1, m2) in enumerate(M):\n",
    "    print(f\"{(i + 1):>2}. {m1:>6.3f} {m2:>6.3f}\")"
   ]
  },
  {
   "cell_type": "code",
   "execution_count": null,
   "id": "8a110bc1",
   "metadata": {},
   "outputs": [],
   "source": []
  }
 ],
 "metadata": {
  "kernelspec": {
   "display_name": "Python 3 (ipykernel)",
   "language": "python",
   "name": "python3"
  },
  "language_info": {
   "codemirror_mode": {
    "name": "ipython",
    "version": 3
   },
   "file_extension": ".py",
   "mimetype": "text/x-python",
   "name": "python",
   "nbconvert_exporter": "python",
   "pygments_lexer": "ipython3",
   "version": "3.12.0"
  }
 },
 "nbformat": 4,
 "nbformat_minor": 5
}
