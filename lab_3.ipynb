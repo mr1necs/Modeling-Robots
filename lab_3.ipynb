{
 "cells": [
  {
   "cell_type": "code",
   "execution_count": 4,
   "id": "fbea1e1e",
   "metadata": {},
   "outputs": [],
   "source": [
    "from math import cos, sin, acos, atan, sqrt \n",
    "import numpy as np"
   ]
  },
  {
   "cell_type": "code",
   "execution_count": 5,
   "id": "f02fb455",
   "metadata": {},
   "outputs": [],
   "source": [
    "a1 = a2 = len_unit = 0.4 * sqrt(2)\n",
    "r2 = centre_mass = len_unit / 2\n",
    "mass = len_unit * 1.9\n",
    "\n",
    "coord_points = [(0.3, 0.3), (0.3, 0.4), (0.3, 0.5), (0.3, 0.6), \n",
    "                (0.3, 0.7), (0.3, 0.8), (0.4, 0.8), (0.5, 0.8), \n",
    "                (0.6, 0.8), (0.7, 0.8), (0.8, 0.8), (0.8, 0.7), \n",
    "                (0.8, 0.6), (0.8, 0.5), (0.8, 0.4), (0.8, 0.3)]\n",
    "coord_unit, alpha, beta = [], [], []"
   ]
  },
  {
   "cell_type": "code",
   "execution_count": 7,
   "id": "1d0efc68",
   "metadata": {},
   "outputs": [],
   "source": [
    "for (x, y) in coord_points:  \n",
    "    lengs = sqrt(x ** 2 + y ** 2)\n",
    "    \n",
    "    alpha.append(atan(x / y) - acos((x ** 2 + y ** 2) / (2 * len_unit * lengs)))   \n",
    "    beta.append(acos((2 * len_unit ** 2 - x ** 2 - y ** 2) / (2 * len_unit ** 2)))\n",
    "    \n",
    "    coord_unit.append((sin(alpha[-1]) * len_unit, cos(alpha[-1]) * len_unit))"
   ]
  },
  {
   "cell_type": "code",
   "execution_count": 8,
   "id": "21f9aef0",
   "metadata": {},
   "outputs": [
    {
     "name": "stdout",
     "output_type": "stream",
     "text": [
      "0.17196836918456845 0.17196836918456845\n"
     ]
    }
   ],
   "source": [
    "e, w, Jc2, M1, M2 = [], [(0, 0)], [], [], []\n",
    "\n",
    "Jc1 = 0.5 * mass * len_unit ** 2\n",
    "\n",
    "for i in range(1, len(alpha)):\n",
    "    Jc2.append(0.5 * mass * (a1 ** 2) + mass * (a2 ** 2) + (0.5 * a2 ** 2) + 2 * 0.5 * (a1)**2 * cos(beta[i]))\n",
    "    w.insert(i - 1, [abs(alpha[i] - alpha[i - 1]), abs(beta[i] - beta[i - 1])])\n",
    "    e.insert(i - 1, [abs(w[i][0] - w[i - 1][0]), abs(w[i][1] - w[i - 1][1])])"
   ]
  },
  {
   "cell_type": "code",
   "execution_count": 23,
   "id": "7925c5a8",
   "metadata": {},
   "outputs": [],
   "source": [
    "d1, d2, d3 = [], [], []\n",
    "\n",
    "for i in range(len(Jc2)):\n",
    "    d1.append(0.5 * (Jc1 + mass * len_unit ** 2 + 2 * mass * len_unit * centre_mass * cos(beta[i]) + mass * centre_mass ** 2 + Jc2[i]))\n",
    "    d2.append(0.5 * (mass * len_unit * centre_mass * cos(beta[i]) + mass * centre_mass ** 2 + Jc2[i]))\n",
    "    d3.append(0.5 * mass * centre_mass ** 2 + 0.5 * Jc2[i])"
   ]
  },
  {
   "cell_type": "code",
   "execution_count": 63,
   "id": "3ad33f3d",
   "metadata": {},
   "outputs": [],
   "source": [
    "M = []\n",
    "for i in range(len(d1)-1):\n",
    "    A = [[2 * d1[i], 2 * d2[i]],\n",
    "         [2 * d2[i], 2 * d3[i]]]\n",
    "\n",
    "    B = [[-2 * m * a1 * r2 * sin(beta[i]) * W[i][1], -m * a1 * r2 * sin(beta[i]) * W[i][1]],\n",
    "         [m * a1 * r2 * sin(beta[i]) * W[i][0], 0]]\n",
    "\n",
    "    M.append(np.array(A)@np.array(E[i]) + np.array(B).reshape(2,-1)@np.array(W[i]))"
   ]
  },
  {
   "cell_type": "code",
   "execution_count": 69,
   "id": "855110b2",
   "metadata": {},
   "outputs": [
    {
     "name": "stdout",
     "output_type": "stream",
     "text": [
      "      M1          M2\n",
      "0 [0.10188639 0.07344148]\n",
      "1 [0.0194642  0.02040712]\n",
      "2 [0.0573441  0.04486753]\n",
      "3 [0.05016288 0.04428971]\n",
      "4 [0.18822226 0.15479022]\n",
      "5 [0.02601854 0.03530789]\n",
      "6 [0.03073059 0.0431274 ]\n",
      "7 [0.05156113 0.06626046]\n",
      "8 [0.32155502 0.31111132]\n",
      "9 [-0.02586914  0.06044301]\n",
      "10 [0.29844191 0.29542878]\n",
      "11 [0.06398512 0.06809256]\n",
      "12 [0.02662425 0.03430103]\n",
      "13 [0.04855366 0.04281284]\n"
     ]
    }
   ],
   "source": [
    "print(\"      M1          M2\")\n",
    "for i in range(len(M)):\n",
    "    print(i, M[i])"
   ]
  },
  {
   "cell_type": "code",
   "execution_count": 54,
   "id": "d7a0408f",
   "metadata": {},
   "outputs": [
    {
     "ename": "ValueError",
     "evalue": "setting an array element with a sequence. The requested array has an inhomogeneous shape after 1 dimensions. The detected shape was (3,) + inhomogeneous part.",
     "output_type": "error",
     "traceback": [
      "\u001b[1;31m---------------------------------------------------------------------------\u001b[0m",
      "\u001b[1;31mValueError\u001b[0m                                Traceback (most recent call last)",
      "Cell \u001b[1;32mIn[54], line 1\u001b[0m\n\u001b[1;32m----> 1\u001b[0m np\u001b[38;5;241m.\u001b[39marray(B)\u001b[38;5;129m@np\u001b[39m\u001b[38;5;241m.\u001b[39marray(W[\u001b[38;5;241m0\u001b[39m])\n",
      "\u001b[1;31mValueError\u001b[0m: setting an array element with a sequence. The requested array has an inhomogeneous shape after 1 dimensions. The detected shape was (3,) + inhomogeneous part."
     ]
    }
   ],
   "source": [
    "np.array(B)@np.array(W[0])"
   ]
  },
  {
   "cell_type": "code",
   "execution_count": 7,
   "id": "76b297f1",
   "metadata": {},
   "outputs": [
    {
     "ename": "TypeError",
     "evalue": "can't multiply sequence by non-int of type 'float'",
     "output_type": "error",
     "traceback": [
      "\u001b[1;31m---------------------------------------------------------------------------\u001b[0m",
      "\u001b[1;31mTypeError\u001b[0m                                 Traceback (most recent call last)",
      "Cell \u001b[1;32mIn[7], line 1\u001b[0m\n\u001b[1;32m----> 1\u001b[0m \u001b[38;5;241m0.5\u001b[39m \u001b[38;5;241m*\u001b[39m Jc1 \u001b[38;5;241m+\u001b[39m \u001b[38;5;241m0.5\u001b[39m \u001b[38;5;241m*\u001b[39m m \u001b[38;5;241m*\u001b[39m (a1)\u001b[38;5;241m*\u001b[39m\u001b[38;5;241m*\u001b[39m\u001b[38;5;241m2\u001b[39m \u001b[38;5;241m+\u001b[39m m \u001b[38;5;241m*\u001b[39m a1 \u001b[38;5;241m*\u001b[39m r2 \u001b[38;5;241m*\u001b[39m cos(beta[i]) \u001b[38;5;241m+\u001b[39m \u001b[38;5;241m0.5\u001b[39m \u001b[38;5;241m*\u001b[39m m \u001b[38;5;241m*\u001b[39m (r2)\u001b[38;5;241m*\u001b[39m\u001b[38;5;241m*\u001b[39m\u001b[38;5;241m2\u001b[39m \u001b[38;5;241m+\u001b[39m \u001b[38;5;241m0.5\u001b[39m \u001b[38;5;241m*\u001b[39m Jc2\n",
      "\u001b[1;31mTypeError\u001b[0m: can't multiply sequence by non-int of type 'float'"
     ]
    }
   ],
   "source": [
    "0.5 * Jc1 + 0.5 * m * (a1)**2 + m * a1 * r2 * cos(beta[i]) + 0.5 * m * (r2)**2 + 0.5 * Jc2"
   ]
  },
  {
   "cell_type": "code",
   "execution_count": 32,
   "id": "40ed4fb4",
   "metadata": {},
   "outputs": [
    {
     "data": {
      "text/plain": [
       "array([0.04914857, 0.02066625])"
      ]
     },
     "execution_count": 32,
     "metadata": {},
     "output_type": "execute_result"
    }
   ],
   "source": [
    " np.transpose(E[0])"
   ]
  },
  {
   "cell_type": "code",
   "execution_count": 36,
   "id": "c90b9332",
   "metadata": {},
   "outputs": [
    {
     "data": {
      "text/plain": [
       "array([0.04914857, 0.02066625])"
      ]
     },
     "execution_count": 36,
     "metadata": {},
     "output_type": "execute_result"
    }
   ],
   "source": [
    "np.eye(2)@E[0]"
   ]
  },
  {
   "cell_type": "code",
   "execution_count": 61,
   "id": "dc5debf5",
   "metadata": {},
   "outputs": [
    {
     "data": {
      "text/plain": [
       "array([[-0.03716038, -0.01858019],\n",
       "       [ 0.00817272,  0.        ]])"
      ]
     },
     "execution_count": 61,
     "metadata": {},
     "output_type": "execute_result"
    }
   ],
   "source": [
    "np.array(B).reshape(2,-1)"
   ]
  },
  {
   "cell_type": "code",
   "execution_count": null,
   "id": "d37bb4f0",
   "metadata": {},
   "outputs": [],
   "source": []
  }
 ],
 "metadata": {
  "kernelspec": {
   "display_name": "Python 3 (ipykernel)",
   "language": "python",
   "name": "python3"
  },
  "language_info": {
   "codemirror_mode": {
    "name": "ipython",
    "version": 3
   },
   "file_extension": ".py",
   "mimetype": "text/x-python",
   "name": "python",
   "nbconvert_exporter": "python",
   "pygments_lexer": "ipython3",
   "version": "3.12.0"
  }
 },
 "nbformat": 4,
 "nbformat_minor": 5
}
