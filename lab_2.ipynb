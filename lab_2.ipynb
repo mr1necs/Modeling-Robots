{
 "cells": [
  {
   "cell_type": "code",
   "execution_count": 1,
   "id": "648f6418",
   "metadata": {},
   "outputs": [],
   "source": [
    "from math import cos, sin, acos, atan, sqrt "
   ]
  },
  {
   "cell_type": "code",
   "execution_count": 2,
   "id": "c3c9f674",
   "metadata": {},
   "outputs": [],
   "source": [
    "len_unit = 0.4 * sqrt(2)\n",
    "mass = len_unit * 1.9\n",
    "centre_mass = len_unit / 2\n",
    "\n",
    "coord_points = [(0.3, 0.3), (0.3, 0.4), (0.3, 0.5), (0.3, 0.6), \n",
    "                (0.3, 0.7), (0.3, 0.8), (0.4, 0.8), (0.5, 0.8), \n",
    "                (0.6, 0.8), (0.7, 0.8), (0.8, 0.8), (0.8, 0.7), \n",
    "                (0.8, 0.6), (0.8, 0.5), (0.8, 0.4), (0.8, 0.3)]\n",
    "coord_unit, alpha, beta = [], [], []"
   ]
  },
  {
   "cell_type": "code",
   "execution_count": 3,
   "id": "2f60e482",
   "metadata": {},
   "outputs": [],
   "source": [
    "for (x, y) in coord_points:  \n",
    "    lengs = sqrt(x ** 2 + y ** 2)\n",
    "    \n",
    "    alpha.append(atan(x / y) - acos((x ** 2 + y ** 2) / (2 * len_unit * lengs)))   \n",
    "    beta.append(acos((2 * len_unit ** 2 - x ** 2 - y ** 2) / (2 * len_unit ** 2)))\n",
    "    \n",
    "    coord_unit.append((sin(alpha[-1]) * len_unit, cos(alpha[-1]) * len_unit))"
   ]
  },
  {
   "cell_type": "code",
   "execution_count": 4,
   "id": "b3e5baeb",
   "metadata": {},
   "outputs": [],
   "source": [
    "H22 = mass * (centre_mass) ** 2 \n",
    "H11, H12, h, G1, G2, q, w, t1, t2 = [], [], [], [], [], [(0, 0)], [], [], []"
   ]
  },
  {
   "cell_type": "code",
   "execution_count": 5,
   "id": "e2dc8d9e",
   "metadata": {},
   "outputs": [],
   "source": [
    "for i in range(1, len(alpha)):\n",
    "    H11.append(mass * (centre_mass ** 2) + mass * ((len_unit ** 2) + (centre_mass ** 2) + 2 * centre_mass * len_unit * cos(beta[i])))\n",
    "    H12.append(mass * 5 / 4 * (len_unit ** 2) - (len_unit ** 2) * sqrt(abs(cos(beta[i]))))\n",
    "    h.append(mass * (len_unit ** 2) * sin(beta[i]))\n",
    "    G1.append(mass * centre_mass * cos(alpha[i]) + mass * 9.81 * (centre_mass * cos(alpha[i] + beta[i]) + len_unit * cos(alpha[i])))\n",
    "    G2.append(mass * centre_mass * 9.81 * cos(alpha[i] + beta[i]))\n",
    "    q.insert(i - 1, (abs(alpha[i] - alpha[i - 1]), abs(beta[i] - beta[i - 1])))\n",
    "    w.insert(i - 1, (abs(q[i][0] - q[i - 1][0]), abs(q[i][1] - q[i - 1][1])))\n",
    "\n",
    "q.pop(-1)\n",
    "\n",
    "for i, (h11i, h12i, hi, (q1, q2), g1i, g2i, (w1, w2)) in enumerate(zip(H11, H12, h, q, G1, G2, w)):\n",
    "    t1.append(h11i * w1 + h12i * w2 - hi * beta[i + 1] ** 2 - 2 * hi * q1 * q2 + g1i)\n",
    "    t2.append(h12i * q1 + H22 * q2 - hi * alpha[i + 1] ** 2 + g2i)"
   ]
  },
  {
   "cell_type": "code",
   "execution_count": 6,
   "id": "35eeba5c",
   "metadata": {},
   "outputs": [
    {
     "name": "stdout",
     "output_type": "stream",
     "text": [
      "      H11   H12    q1     q2     G1     G2     w1     w2     h     t1     t2\n",
      " 1.  0.73  0.18   0.07   0.15   8.28   2.69   0.07   0.15  0.27   8.12   2.66\n",
      " 2.  0.68  0.21   0.02   0.17   8.01   2.47   0.02   0.17  0.30   7.70   2.42\n",
      " 3.  0.62  0.26   0.02   0.19   7.67   2.08   0.02   0.19  0.33   7.19   2.03\n",
      " 4.  0.55  0.33   0.05   0.21   7.19   1.49   0.05   0.21  0.34   6.53   1.46\n",
      " 5.  0.47  0.31   0.07   0.23   6.51   0.64   0.07   0.23  0.34   5.61   0.64\n",
      " 6.  0.43  0.27   0.16   0.11   5.98  -0.17   0.16   0.11  0.33   4.96  -0.13\n",
      " 7.  0.38  0.23   0.17   0.15   5.17  -1.09   0.17   0.15  0.32   4.03  -1.04\n",
      " 8.  0.32  0.19   0.18   0.20   4.15  -2.04   0.18   0.20  0.28   2.89  -2.00\n",
      " 9.  0.25  0.15   0.21   0.27   3.02  -2.82   0.21   0.27  0.22   1.77  -2.80\n",
      "10.  0.17  0.11   0.42   0.70   2.32  -2.11   0.42   0.70  0.00   2.47  -2.00\n",
      "11.  0.25  0.15   0.28   0.70   2.57  -2.93   0.28   0.70  0.22   1.34  -2.88\n",
      "12.  0.32  0.19   0.06   0.27   3.10  -2.57   0.06   0.27  0.28   1.83  -2.59\n",
      "13.  0.38  0.23   0.01   0.20   3.51  -2.20   0.01   0.20  0.32   2.32  -2.24\n",
      "14.  0.43  0.27   0.02   0.15   3.73  -1.92   0.02   0.15  0.33   2.67  -1.97\n",
      "15.  0.47  0.31   0.05   0.11   3.73  -1.78   0.05   0.11  0.34   2.79  -1.84\n"
     ]
    }
   ],
   "source": [
    "print(\"      H11   H12    q1     q2     G1     G2     w1     w2     h     t1     t2\")\n",
    "for i, (h11i, h12i, hi, (q1, q2), g1i, g2i, (w1, w2), t1i, t2i) in enumerate(zip(H11, H12, h, q, G1, G2, w, t1, t2)):\n",
    "    print(f\"{(i + 1):>2}. {h11i:>5.2f} {h12i:>5.2f} {q1:>6.2f} {q2:>6.2f}\", end=' ')\n",
    "    print(f\"{g1i:>6.2f} {g2i:>6.2f} {w1:>6.2f} {w2:>6.2f} {hi:>5.2f} {t1i:>6.2f} {t2i:>6.2f}\")"
   ]
  },
  {
   "cell_type": "code",
   "execution_count": 7,
   "id": "d8c4efe0",
   "metadata": {},
   "outputs": [
    {
     "name": "stdout",
     "output_type": "stream",
     "text": [
      "      t1     t2\n",
      " 1. 8.1227 2.6554\n",
      " 2. 7.6956 2.4173\n",
      " 3. 7.1927 2.0313\n",
      " 4. 6.5300 1.4555\n",
      " 5. 5.6083 0.6354\n",
      " 6. 4.9584 -0.1305\n",
      " 7. 4.0250 -1.0413\n",
      " 8. 2.8886 -1.9974\n",
      " 9. 1.7724 -2.7967\n",
      "10. 2.4721 -2.0030\n",
      "11. 1.3368 -2.8784\n",
      "12. 1.8266 -2.5887\n",
      "13. 2.3234 -2.2362\n",
      "14. 2.6663 -1.9715\n",
      "15. 2.7886 -1.8362\n"
     ]
    }
   ],
   "source": [
    "print(\"      t1     t2\")\n",
    "for i, (t1i, t2i) in enumerate(zip(t1, t2)):\n",
    "    print(f\"{(i + 1):>2}. {t1i:>6.4f} {t2i:>6.4f}\")"
   ]
  },
  {
   "cell_type": "code",
   "execution_count": null,
   "id": "e4075dee",
   "metadata": {},
   "outputs": [],
   "source": []
  }
 ],
 "metadata": {
  "kernelspec": {
   "display_name": "Python 3 (ipykernel)",
   "language": "python",
   "name": "python3"
  },
  "language_info": {
   "codemirror_mode": {
    "name": "ipython",
    "version": 3
   },
   "file_extension": ".py",
   "mimetype": "text/x-python",
   "name": "python",
   "nbconvert_exporter": "python",
   "pygments_lexer": "ipython3",
   "version": "3.12.0"
  }
 },
 "nbformat": 4,
 "nbformat_minor": 5
}
