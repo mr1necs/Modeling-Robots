{
 "cells": [
  {
   "cell_type": "code",
   "execution_count": 1,
   "id": "648f6418",
   "metadata": {},
   "outputs": [],
   "source": [
    "from math import cos, sin, acos, atan, sqrt, pi"
   ]
  },
  {
   "cell_type": "code",
   "execution_count": 2,
   "id": "c3c9f674",
   "metadata": {},
   "outputs": [],
   "source": [
    "len_unit = 0.4 * sqrt(2)\n",
    "mass = len_unit * 1.9\n",
    "centre_mass = len_unit / 2\n",
    "\n",
    "coord_points = [(0.3, 0.3), (0.3, 0.4), (0.3, 0.5), (0.3, 0.6), \n",
    "                (0.3, 0.7), (0.3, 0.8), (0.4, 0.8), (0.5, 0.8), \n",
    "                (0.6, 0.8), (0.7, 0.8), (0.8, 0.8), (0.8, 0.7), \n",
    "                (0.8, 0.6), (0.8, 0.5), (0.8, 0.4), (0.8, 0.3)]\n",
    "\n",
    "alpha, beta = [], []"
   ]
  },
  {
   "cell_type": "code",
   "execution_count": 3,
   "id": "2f60e482",
   "metadata": {},
   "outputs": [],
   "source": [
    "for (x, y) in coord_points:  \n",
    "    alpha.append(pi / 2 - atan(x / y) + acos((x ** 2 + y ** 2) / (2 * len_unit * sqrt(x ** 2 + y ** 2))))   \n",
    "    beta.append(pi - acos((2 * len_unit ** 2 - x ** 2 - y ** 2) / (2 * len_unit ** 2)))"
   ]
  },
  {
   "cell_type": "code",
   "execution_count": 4,
   "id": "b3e5baeb",
   "metadata": {},
   "outputs": [],
   "source": [
    "I1, I2 = 0.5, 0.5\n",
    "H22 = mass * (centre_mass) ** 2 + I2\n",
    "H11, H12, h, w, e, t1, t2 = [], [], [], [], [], [], []"
   ]
  },
  {
   "cell_type": "code",
   "execution_count": 5,
   "id": "e2dc8d9e",
   "metadata": {},
   "outputs": [],
   "source": [
    "for i in range(1, len(alpha)):\n",
    "    H11.append(mass * centre_mass ** 2 + I1 + I2 + mass * (len_unit ** 2 + centre_mass ** 2 + 2 * centre_mass * len_unit * cos(beta[i])))\n",
    "    H12.append(mass * sqrt(abs(len_unit ** 2 + centre_mass ** 2 - 2 * len_unit * centre_mass * cos(pi - beta[i]))) + I2)\n",
    "    # ? H12.append(mass * 5 / 4 * (len_unit ** 2) - (len_unit ** 2) * sqrt(abs(cos(beta[i]))))\n",
    "    h.append(mass * len_unit ** 2 * sin(beta[i]))\n",
    "    w.append([abs(alpha[i] - alpha[i - 1]), abs(beta[i] - beta[i - 1])])\n",
    "    \n",
    "for i in range(1, len(w)):\n",
    "    e.append([abs(w[i][0] - w[i - 1][0]), abs(w[i][1] - w[i - 1][1])])\n",
    "\n",
    "\n",
    "for i, (h11i, h12i, hi, (w1, w2), (e1, e2)) in enumerate(zip(H11, H12, h, w, e)):\n",
    "    t1.append(h11i * e1 + h12i * e2 - hi * beta[i + 1] ** 2 - 2 * hi * w1 * w2)\n",
    "    t2.append(h12i * e1 + H22 * e2 - hi * alpha[i + 1] ** 2)"
   ]
  },
  {
   "cell_type": "code",
   "execution_count": 6,
   "id": "35eeba5c",
   "metadata": {},
   "outputs": [
    {
     "name": "stdout",
     "output_type": "stream",
     "text": [
      "      H11    H12     w1     w2     e1     e2     h      t1      t2\n",
      " 1.  1.306  0.987   0.07   0.15   0.05   0.02  0.273  -1.272  -1.075\n",
      " 2.  1.355  1.037   0.02   0.17   0.00   0.02  0.304  -1.266  -1.275\n",
      " 3.  1.414  1.094   0.02   0.19   0.03   0.02  0.328  -1.090  -1.328\n",
      " 4.  1.484  1.154   0.05   0.21   0.03   0.03  0.342  -0.885  -1.321\n",
      " 5.  1.564  1.217   0.07   0.23   0.09   0.12  0.341  -0.418  -1.083\n",
      " 6.  1.602  1.245   0.16   0.11   0.01   0.04  0.333  -0.531  -1.006\n",
      " 7.  1.650  1.279   0.17   0.15   0.01   0.05  0.317  -0.366  -0.762\n",
      " 8.  1.709  1.319   0.18   0.20   0.03   0.08  0.284  -0.136  -0.483\n",
      " 9.  1.779  1.363   0.21   0.27   0.20   0.42  0.221   0.806   0.206\n",
      "10.  1.860  1.412   0.42   0.70   0.13   0.00  0.000   0.248   0.188\n",
      "11.  1.779  1.363   0.28   0.70   0.22   0.42  0.221   0.776   0.297\n",
      "12.  1.709  1.319   0.06   0.27   0.05   0.08  0.284  -0.092  -0.253\n",
      "13.  1.650  1.279   0.01   0.20   0.01   0.05  0.317  -0.362  -0.376\n",
      "14.  1.602  1.245   0.02   0.15   0.03   0.04  0.333  -0.489  -0.363\n"
     ]
    }
   ],
   "source": [
    "print(\"      H11    H12     w1     w2     e1     e2     h      t1      t2\")\n",
    "for i, (h11i, h12i, hi, (w1, w2), (e1, e2), t1i, t2i) in enumerate(zip(H11, H12, h, w, e, t1, t2)):\n",
    "    print(f\"{(i + 1):>2}. {h11i:>6.3f} {h12i:>6.3f} {w1:>6.2f} {w2:>6.2f}\", end=' ')\n",
    "    print(f\"{e1:>6.2f} {e2:>6.2f} {hi:>6.3f} {t1i:>7.3f} {t2i:>7.3f}\")"
   ]
  },
  {
   "cell_type": "code",
   "execution_count": 7,
   "id": "d8c4efe0",
   "metadata": {},
   "outputs": [
    {
     "name": "stdout",
     "output_type": "stream",
     "text": [
      "       t1     t2     h\n",
      " 1. -1.272 -1.075  0.273 \n",
      " 2. -1.266 -1.275  0.304 \n",
      " 3. -1.090 -1.328  0.328 \n",
      " 4. -0.885 -1.321  0.342 \n",
      " 5. -0.418 -1.083  0.341 \n",
      " 6. -0.531 -1.006  0.333 \n",
      " 7. -0.366 -0.762  0.317 \n",
      " 8. -0.136 -0.483  0.284 \n",
      " 9.  0.806  0.206  0.221 \n",
      "10.  0.248  0.188  0.000 \n",
      "11.  0.776  0.297  0.221 \n",
      "12. -0.092 -0.253  0.284 \n",
      "13. -0.362 -0.376  0.317 \n",
      "14. -0.489 -0.363  0.333 \n"
     ]
    }
   ],
   "source": [
    "print(\"       t1     t2     h\")\n",
    "for i, (t1i, t2i, hi) in enumerate(zip(t1, t2, h)):\n",
    "    print(f\"{(i + 1):>2}. {t1i:>6.3f} {t2i:>6.3f} {hi:>6.3f} \")"
   ]
  },
  {
   "cell_type": "code",
   "execution_count": null,
   "id": "e4075dee",
   "metadata": {},
   "outputs": [],
   "source": []
  }
 ],
 "metadata": {
  "kernelspec": {
   "display_name": "Python 3 (ipykernel)",
   "language": "python",
   "name": "python3"
  },
  "language_info": {
   "codemirror_mode": {
    "name": "ipython",
    "version": 3
   },
   "file_extension": ".py",
   "mimetype": "text/x-python",
   "name": "python",
   "nbconvert_exporter": "python",
   "pygments_lexer": "ipython3",
   "version": "3.12.0"
  }
 },
 "nbformat": 4,
 "nbformat_minor": 5
}
