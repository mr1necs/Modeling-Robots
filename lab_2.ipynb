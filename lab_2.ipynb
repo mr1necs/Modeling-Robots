{
 "cells": [
  {
   "cell_type": "code",
   "execution_count": 39,
   "id": "648f6418",
   "metadata": {},
   "outputs": [],
   "source": [
    "from math import cos, sin, acos, atan, sqrt, pi"
   ]
  },
  {
   "cell_type": "code",
   "execution_count": 40,
   "id": "c3c9f674",
   "metadata": {},
   "outputs": [],
   "source": [
    "len_unit = 0.4 * sqrt(2)\n",
    "mass = len_unit * 1.9\n",
    "centre_mass = len_unit / 2\n",
    "\n",
    "coord_points = [(0.3, 0.3), (0.3, 0.4), (0.3, 0.5), (0.3, 0.6), \n",
    "                (0.3, 0.7), (0.3, 0.8), (0.4, 0.8), (0.5, 0.8), \n",
    "                (0.6, 0.8), (0.7, 0.8), (0.8, 0.8), (0.8, 0.7), \n",
    "                (0.8, 0.6), (0.8, 0.5), (0.8, 0.4), (0.8, 0.3)]\n",
    "\n",
    "coord_unit, alpha, beta = [], [], []"
   ]
  },
  {
   "cell_type": "code",
   "execution_count": 41,
   "id": "2f60e482",
   "metadata": {},
   "outputs": [],
   "source": [
    "for (x, y) in coord_points:  \n",
    "    lengs = sqrt(x ** 2 + y ** 2)\n",
    "    \n",
    "    alpha.append(pi / 2 - atan(x / y) + acos((x ** 2 + y ** 2) / (2 * len_unit * lengs)))   \n",
    "    beta.append(pi - acos((2 * len_unit ** 2 - x ** 2 - y ** 2) / (2 * len_unit ** 2)))\n",
    "    \n",
    "    coord_unit.append((sin(alpha[-1]) * len_unit, cos(alpha[-1]) * len_unit))"
   ]
  },
  {
   "cell_type": "code",
   "execution_count": 46,
   "id": "b3e5baeb",
   "metadata": {},
   "outputs": [],
   "source": [
    "I1, I2, g = 0, 0, 1\n",
    "H22 = mass * (centre_mass) ** 2 + I2\n",
    "H11, H12, h, G1, G2, w, e, t1, t2 = [], [], [], [], [], [], [], [], []"
   ]
  },
  {
   "cell_type": "code",
   "execution_count": 47,
   "id": "e2dc8d9e",
   "metadata": {},
   "outputs": [],
   "source": [
    "for i in range(1, len(alpha)):\n",
    "    H11.append(mass * centre_mass ** 2 + I1 + I2 + mass * (len_unit ** 2 + centre_mass ** 2 + 2 * centre_mass * len_unit * cos(beta[i])))\n",
    "    H12.append(mass * sqrt(abs(len_unit ** 2 + centre_mass ** 2 - 2 * len_unit * centre_mass * cos(pi - beta[i])))+ I2)\n",
    "    # ? H12.append(mass * 5 / 4 * (len_unit ** 2) - (len_unit ** 2) * sqrt(abs(cos(beta[i]))))\n",
    "    h.append(mass * len_unit ** 2 * sin(beta[i]))\n",
    "    G1.append(mass * g * (centre_mass * cos(alpha[i]) + centre_mass * cos(alpha[i] + beta[i]) + len_unit * cos(alpha[i])))\n",
    "    G2.append(mass * g * centre_mass * cos(alpha[i] + beta[i]))\n",
    "    w.append([abs(alpha[i] - alpha[i - 1]), abs(beta[i] - beta[i - 1])])\n",
    "    \n",
    "for i in range(1, len(w)):\n",
    "    e.append([abs(w[i][0] - w[i - 1][0]), abs(w[i][1] - w[i - 1][1])])\n",
    "\n",
    "\n",
    "for i, (h11i, h12i, hi, (w1, w2), g1i, g2i, (e1, e2)) in enumerate(zip(H11, H12, h, w, G1, G2, e)):\n",
    "    t1.append(h11i * e1 + h12i * e2 - hi * beta[i + 1] ** 2 - 2 * hi * w1 * w2 + g1i)\n",
    "    t2.append(h12i * e1 + H22 * e2 - hi * alpha[i + 1] ** 2 + g2i)"
   ]
  },
  {
   "cell_type": "code",
   "execution_count": 48,
   "id": "35eeba5c",
   "metadata": {},
   "outputs": [
    {
     "name": "stdout",
     "output_type": "stream",
     "text": [
      "      H11    H12     w1     w2     G1     G2     e1     e2     h      t1     t2\n",
      " 1.  0.306  0.487   0.07   0.15  -0.54  -0.13   0.05   0.02  0.273 -1.875 -1.241\n",
      " 2.  0.355  0.537   0.02   0.17  -0.60  -0.17   0.00   0.02  0.304 -1.877 -1.456\n",
      " 3.  0.414  0.594   0.02   0.19  -0.63  -0.22   0.03   0.02  0.328 -1.761 -1.570\n",
      " 4.  0.484  0.654   0.05   0.21  -0.64  -0.26   0.03   0.03  0.342 -1.566 -1.611\n",
      " 5.  0.564  0.717   0.07   0.23  -0.61  -0.30   0.09   0.12  0.341 -1.184 -1.487\n",
      " 6.  0.602  0.745   0.16   0.11  -0.48  -0.30   0.01   0.04  0.333 -1.038 -1.333\n",
      " 7.  0.650  0.779   0.17   0.15  -0.31  -0.28   0.01   0.05  0.317 -0.710 -1.076\n",
      " 8.  0.709  0.819   0.18   0.20  -0.08  -0.22   0.03   0.08  0.284 -0.284 -0.759\n",
      " 9.  0.779  0.863   0.21   0.27   0.23  -0.10   0.20   0.42  0.221  0.622 -0.206\n",
      "10.  0.860  0.912   0.42   0.70   0.86   0.21   0.13   0.00  0.000  0.974  0.336\n",
      "11.  0.779  0.863   0.28   0.70   0.38  -0.06   0.22   0.42  0.221  0.723 -0.085\n",
      "12.  0.709  0.819   0.06   0.27   0.23  -0.15   0.05   0.08  0.284  0.054 -0.471\n",
      "13.  0.650  0.779   0.01   0.20   0.17  -0.21   0.01   0.05  0.317 -0.220 -0.609\n",
      "14.  0.602  0.745   0.02   0.15   0.16  -0.23   0.03   0.04  0.333 -0.373 -0.628\n"
     ]
    }
   ],
   "source": [
    "print(\"      H11    H12     w1     w2     G1     G2     e1     e2     h      t1     t2\")\n",
    "for i, (h11i, h12i, hi, (w1, w2), g1i, g2i, (e1, e2), t1i, t2i) in enumerate(zip(H11, H12, h, w, G1, G2, e, t1, t2)):\n",
    "    print(f\"{(i + 1):>2}. {h11i:>6.3f} {h12i:>6.3f} {w1:>6.2f} {w2:>6.2f}\", end=' ')\n",
    "    print(f\"{g1i:>6.2f} {g2i:>6.2f} {e1:>6.2f} {e2:>6.2f} {hi:>6.3f} {t1i:>6.3f} {t2i:>6.3f}\")"
   ]
  },
  {
   "cell_type": "code",
   "execution_count": 49,
   "id": "d8c4efe0",
   "metadata": {},
   "outputs": [
    {
     "name": "stdout",
     "output_type": "stream",
     "text": [
      "       t1     t2     h\n",
      " 1. -1.875 -1.241  0.273 \n",
      " 2. -1.877 -1.456  0.304 \n",
      " 3. -1.761 -1.570  0.328 \n",
      " 4. -1.566 -1.611  0.342 \n",
      " 5. -1.184 -1.487  0.341 \n",
      " 6. -1.038 -1.333  0.333 \n",
      " 7. -0.710 -1.076  0.317 \n",
      " 8. -0.284 -0.759  0.284 \n",
      " 9.  0.622 -0.206  0.221 \n",
      "10.  0.974  0.336  0.000 \n",
      "11.  0.723 -0.085  0.221 \n",
      "12.  0.054 -0.471  0.284 \n",
      "13. -0.220 -0.609  0.317 \n",
      "14. -0.373 -0.628  0.333 \n"
     ]
    }
   ],
   "source": [
    "print(\"       t1     t2     h\")\n",
    "for i, (t1i, t2i, hi) in enumerate(zip(t1, t2, h)):\n",
    "    print(f\"{(i + 1):>2}. {t1i:>6.3f} {t2i:>6.3f} {hi:>6.3f} \")"
   ]
  },
  {
   "cell_type": "code",
   "execution_count": null,
   "id": "e4075dee",
   "metadata": {},
   "outputs": [],
   "source": []
  }
 ],
 "metadata": {
  "kernelspec": {
   "display_name": "Python 3 (ipykernel)",
   "language": "python",
   "name": "python3"
  },
  "language_info": {
   "codemirror_mode": {
    "name": "ipython",
    "version": 3
   },
   "file_extension": ".py",
   "mimetype": "text/x-python",
   "name": "python",
   "nbconvert_exporter": "python",
   "pygments_lexer": "ipython3",
   "version": "3.12.0"
  }
 },
 "nbformat": 4,
 "nbformat_minor": 5
}
