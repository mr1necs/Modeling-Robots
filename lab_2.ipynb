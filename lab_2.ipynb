{
 "cells": [
  {
   "cell_type": "code",
   "execution_count": 67,
   "id": "648f6418",
   "metadata": {},
   "outputs": [],
   "source": [
    "from math import cos, sin, acos, atan, sqrt "
   ]
  },
  {
   "cell_type": "code",
   "execution_count": 68,
   "id": "c3c9f674",
   "metadata": {},
   "outputs": [],
   "source": [
    "len_unit = 0.4 * sqrt(2)\n",
    "mass = len_unit * 1.9\n",
    "centre_mass = len_unit / 2\n",
    "\n",
    "coord_points = [(0.3, 0.3), (0.3, 0.4), (0.3, 0.5), (0.3, 0.6), \n",
    "                (0.3, 0.7), (0.3, 0.8), (0.4, 0.8), (0.5, 0.8), \n",
    "                (0.6, 0.8), (0.7, 0.8), (0.8, 0.8), (0.8, 0.7), \n",
    "                (0.8, 0.6), (0.8, 0.5), (0.8, 0.4), (0.8, 0.3)]\n",
    "coord_unit, alpha, beta = [], [], []"
   ]
  },
  {
   "cell_type": "code",
   "execution_count": 69,
   "id": "2f60e482",
   "metadata": {},
   "outputs": [],
   "source": [
    "for (x, y) in coord_points:  \n",
    "    lengs = sqrt(x ** 2 + y ** 2)\n",
    "    \n",
    "    alpha.append(atan(x / y) - acos((x ** 2 + y ** 2) / (2 * len_unit * lengs)))   \n",
    "    beta.append(acos((2 * len_unit ** 2 - x ** 2 - y ** 2) / (2 * len_unit ** 2)))\n",
    "    \n",
    "    coord_unit.append((sin(alpha[-1]) * len_unit, cos(alpha[-1]) * len_unit))"
   ]
  },
  {
   "cell_type": "code",
   "execution_count": 70,
   "id": "b3e5baeb",
   "metadata": {},
   "outputs": [],
   "source": [
    "H22 = mass * (centre_mass) ** 2 \n",
    "H11, H12, h, G1, G2, w, e, t1, t2 = [], [], [], [], [], [], [], [], []"
   ]
  },
  {
   "cell_type": "code",
   "execution_count": 71,
   "id": "e2dc8d9e",
   "metadata": {},
   "outputs": [],
   "source": [
    "for i in range(1, len(alpha)):\n",
    "    H11.append(mass * (centre_mass ** 2) + mass * ((len_unit ** 2) + (centre_mass ** 2) + 2 * centre_mass * len_unit * cos(beta[i])))\n",
    "    H12.append(mass * 5 / 4 * (len_unit ** 2) - (len_unit ** 2) * sqrt(abs(cos(beta[i]))))\n",
    "    h.append(mass * (len_unit ** 2) * sin(beta[i]))\n",
    "    G1.append(mass * centre_mass * cos(alpha[i]) + mass * (centre_mass * cos(alpha[i] + beta[i]) + len_unit * cos(alpha[i])))\n",
    "    G2.append(mass * centre_mass * cos(alpha[i] + beta[i]))\n",
    "    w.insert(i - 1, (abs(alpha[i] - alpha[i - 1]), abs(beta[i] - beta[i - 1])))\n",
    "    \n",
    "for i in range(1, len(w)):\n",
    "    e.insert(i - 1, [abs(w[i][0] - w[i - 1][0]), abs(w[i][1] - w[i - 1][1])])\n",
    "\n",
    "\n",
    "for i, (h11i, h12i, hi, (w1, w2), g1i, g2i, (e1, e2)) in enumerate(zip(H11, H12, h, w, G1, G2, e)):\n",
    "    t1.append(h11i * e1 + h12i * e2 - hi * beta[i + 1] ** 2 - 2 * hi * w1 * w2 + g1i)\n",
    "    t2.append(h12i * w1 + H22 * w2 - hi * alpha[i + 1] ** 2 + g2i)"
   ]
  },
  {
   "cell_type": "code",
   "execution_count": 72,
   "id": "35eeba5c",
   "metadata": {},
   "outputs": [
    {
     "name": "stdout",
     "output_type": "stream",
     "text": [
      "       H11    H12    q1     q2     G1     G2     w1     w2     h     t1     t2\n",
      " 1.   0.73   0.18   0.07   0.15   1.09   0.27   0.05   0.02  0.27   0.89   0.24\n",
      " 2.   0.68   0.21   0.02   0.17   1.06   0.25   0.00   0.02  0.30   0.70   0.20\n",
      " 3.   0.62   0.26   0.02   0.19   1.02   0.21   0.03   0.02  0.33   0.52   0.16\n",
      " 4.   0.55   0.33   0.05   0.21   0.98   0.15   0.03   0.03  0.34   0.25   0.12\n",
      " 5.   0.47   0.31   0.07   0.23   0.92   0.06   0.09   0.12  0.34  -0.01   0.06\n",
      " 6.   0.43   0.27   0.16   0.11   0.88  -0.02   0.01   0.04  0.33  -0.23   0.02\n",
      " 7.   0.38   0.23   0.17   0.15   0.80  -0.11   0.01   0.05  0.32  -0.43  -0.06\n",
      " 8.   0.32   0.19   0.18   0.20   0.69  -0.21   0.03   0.08  0.28  -0.64  -0.16\n",
      " 9.   0.25   0.15   0.21   0.27   0.56  -0.29   0.20   0.42  0.22  -0.67  -0.26\n",
      "10.   0.17   0.11   0.42   0.70   0.43  -0.21   0.13   0.00  0.00   0.45  -0.11\n",
      "11.   0.25   0.15   0.28   0.70   0.50  -0.30   0.22   0.42  0.22  -0.79  -0.25\n",
      "12.   0.32   0.19   0.06   0.27   0.56  -0.26   0.05   0.08  0.28  -0.75  -0.28\n",
      "13.   0.38   0.23   0.01   0.20   0.61  -0.22   0.01   0.05  0.32  -0.61  -0.26\n",
      "14.   0.43   0.27   0.02   0.15   0.63  -0.20   0.03   0.04  0.33  -0.46  -0.24\n"
     ]
    }
   ],
   "source": [
    "print(\"       H11    H12    q1     q2     G1     G2     w1     w2     h     t1     t2\")\n",
    "for i, (h11i, h12i, hi, (w1, w2), g1i, g2i, (e1, e2), t1i, t2i) in enumerate(zip(H11, H12, h,w, G1, G2, e, t1, t2)):\n",
    "    print(f\"{(i + 1):>2}. {h11i:>6.2f} {h12i:>6.2f} {w1:>6.2f} {w2:>6.2f}\", end=' ')\n",
    "    print(f\"{g1i:>6.2f} {g2i:>6.2f} {e1:>6.2f} {e2:>6.2f} {hi:>5.2f} {t1i:>6.2f} {t2i:>6.2f}\")"
   ]
  },
  {
   "cell_type": "code",
   "execution_count": 73,
   "id": "d8c4efe0",
   "metadata": {},
   "outputs": [
    {
     "name": "stdout",
     "output_type": "stream",
     "text": [
      "      t1     t2\n",
      " 1.  0.893  0.239\n",
      " 2.  0.705  0.198\n",
      " 3.  0.516  0.159\n",
      " 4.  0.252  0.122\n",
      " 5. -0.010  0.064\n",
      " 6. -0.228  0.023\n",
      " 7. -0.431 -0.060\n",
      " 8. -0.640 -0.164\n",
      " 9. -0.668 -0.262\n",
      "10.  0.453 -0.109\n",
      "11. -0.787 -0.252\n",
      "12. -0.753 -0.282\n",
      "13. -0.613 -0.262\n",
      "14. -0.461 -0.245\n"
     ]
    }
   ],
   "source": [
    "print(\"      t1     t2\")\n",
    "for i, (t1i, t2i) in enumerate(zip(t1, t2)):\n",
    "    print(f\"{(i + 1):>2}. {t1i:>6.3f} {t2i:>6.3f}\")"
   ]
  },
  {
   "cell_type": "code",
   "execution_count": null,
   "id": "e4075dee",
   "metadata": {},
   "outputs": [],
   "source": []
  }
 ],
 "metadata": {
  "kernelspec": {
   "display_name": "Python 3 (ipykernel)",
   "language": "python",
   "name": "python3"
  },
  "language_info": {
   "codemirror_mode": {
    "name": "ipython",
    "version": 3
   },
   "file_extension": ".py",
   "mimetype": "text/x-python",
   "name": "python",
   "nbconvert_exporter": "python",
   "pygments_lexer": "ipython3",
   "version": "3.12.0"
  }
 },
 "nbformat": 4,
 "nbformat_minor": 5
}
