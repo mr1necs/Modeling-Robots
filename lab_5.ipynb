{
 "cells": [
  {
   "cell_type": "code",
   "id": "initial_id",
   "metadata": {
    "collapsed": true,
    "ExecuteTime": {
     "end_time": "2024-11-01T14:48:48.412800Z",
     "start_time": "2024-11-01T14:48:48.312122Z"
    }
   },
   "source": "import numpy as np",
   "outputs": [],
   "execution_count": 1
  },
  {
   "metadata": {
    "ExecuteTime": {
     "end_time": "2024-11-01T14:48:49.130900Z",
     "start_time": "2024-11-01T14:48:49.126930Z"
    }
   },
   "cell_type": "code",
   "source": [
    "duration, step = 2, 0.1\n",
    "wheel_speeds, speed_error = np.array([0.4, 0.6]), 0.01 \n",
    "L = 0.5\n",
    "x = y = q = 0\n"
   ],
   "id": "21d35606b4e2ba66",
   "outputs": [],
   "execution_count": 2
  },
  {
   "metadata": {
    "ExecuteTime": {
     "end_time": "2024-11-01T14:48:50.155606Z",
     "start_time": "2024-11-01T14:48:50.132681Z"
    }
   },
   "cell_type": "code",
   "source": [
    "for t in np.arange(0, duration, step):\n",
    "    speeds = wheel_speeds + np.random.uniform(-speed_error, speed_error, len(wheel_speeds))\n",
    "    v = np.mean(speeds)\n",
    "    \n",
    "    v_l, v_r = speeds\n",
    "    delta_q = (v_r - v_l) * step / L\n",
    "    q += delta_q\n",
    "\n",
    "    x += v * np.cos(q) * step\n",
    "    y += v * np.sin(q) * step\n",
    "\n",
    "    print(f\"Time: {t:.1f} s, Position: ({x:.2f}, {y:.2f}), Angle: {q:.2f} rad\")\n"
   ],
   "id": "38e8485913af776d",
   "outputs": [
    {
     "name": "stdout",
     "output_type": "stream",
     "text": [
      "Time: 0.0 s, Position: (0.05, 0.00), Angle: 0.04 rad\n",
      "Time: 0.1 s, Position: (0.10, 0.01), Angle: 0.08 rad\n",
      "Time: 0.2 s, Position: (0.15, 0.01), Angle: 0.12 rad\n",
      "Time: 0.3 s, Position: (0.20, 0.02), Angle: 0.16 rad\n",
      "Time: 0.4 s, Position: (0.25, 0.03), Angle: 0.20 rad\n",
      "Time: 0.5 s, Position: (0.30, 0.04), Angle: 0.24 rad\n",
      "Time: 0.6 s, Position: (0.35, 0.06), Angle: 0.28 rad\n",
      "Time: 0.7 s, Position: (0.39, 0.07), Angle: 0.32 rad\n",
      "Time: 0.8 s, Position: (0.44, 0.09), Angle: 0.36 rad\n",
      "Time: 0.9 s, Position: (0.49, 0.11), Angle: 0.40 rad\n",
      "Time: 1.0 s, Position: (0.53, 0.13), Angle: 0.44 rad\n",
      "Time: 1.1 s, Position: (0.57, 0.15), Angle: 0.48 rad\n",
      "Time: 1.2 s, Position: (0.62, 0.18), Angle: 0.52 rad\n",
      "Time: 1.3 s, Position: (0.66, 0.20), Angle: 0.56 rad\n",
      "Time: 1.4 s, Position: (0.70, 0.23), Angle: 0.60 rad\n",
      "Time: 1.5 s, Position: (0.74, 0.26), Angle: 0.64 rad\n",
      "Time: 1.6 s, Position: (0.78, 0.29), Angle: 0.68 rad\n",
      "Time: 1.7 s, Position: (0.82, 0.33), Angle: 0.72 rad\n",
      "Time: 1.8 s, Position: (0.85, 0.36), Angle: 0.76 rad\n",
      "Time: 1.9 s, Position: (0.89, 0.40), Angle: 0.80 rad\n"
     ]
    }
   ],
   "execution_count": 3
  },
  {
   "metadata": {},
   "cell_type": "code",
   "outputs": [],
   "execution_count": null,
   "source": "",
   "id": "1e3a869a8c1dc142"
  },
  {
   "metadata": {},
   "cell_type": "code",
   "outputs": [],
   "execution_count": null,
   "source": "",
   "id": "a0a0ccf77218865d"
  }
 ],
 "metadata": {
  "kernelspec": {
   "display_name": "Python 3",
   "language": "python",
   "name": "python3"
  },
  "language_info": {
   "codemirror_mode": {
    "name": "ipython",
    "version": 2
   },
   "file_extension": ".py",
   "mimetype": "text/x-python",
   "name": "python",
   "nbconvert_exporter": "python",
   "pygments_lexer": "ipython2",
   "version": "2.7.6"
  }
 },
 "nbformat": 4,
 "nbformat_minor": 5
}
